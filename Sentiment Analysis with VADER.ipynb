{
 "cells": [
  {
   "cell_type": "code",
   "execution_count": 2,
   "metadata": {
    "colab": {
     "base_uri": "https://localhost:8080/",
     "height": 387
    },
    "colab_type": "code",
    "id": "nMx2UqrJFyw-",
    "outputId": "2a1da4e3-31d4-401f-f6b0-9f693ad8d9a6"
   },
   "outputs": [],
   "source": [
    "#!python3 -m pip install --user vaderSentiment nltk feedparser googletrans"
   ]
  },
  {
   "cell_type": "code",
   "execution_count": 3,
   "metadata": {
    "colab": {},
    "colab_type": "code",
    "id": "VldzdttbGRT6"
   },
   "outputs": [],
   "source": [
    "import pandas as pd"
   ]
  },
  {
   "cell_type": "code",
   "execution_count": 6,
   "metadata": {},
   "outputs": [],
   "source": [
    "import feedparser\n",
    "import nltk\n",
    "from nltk.sentiment.vader import SentimentIntensityAnalyzer\n",
    "from googletrans import Translator # Currently vader lexicon is only trained in English so we trust google for NMT\n",
    "\n",
    "nltk.download('vader_lexicon') # Download pretrained vader lexicon\n",
    "\n",
    "translator = Translator()\n",
    "sid = SentimentIntensityAnalyzer()\n",
    "\n",
    "NewsFeed = feedparser.parse(\"https://tr.investing.com/rss/news_25.rss\") # Investing.com Stock Exchange News RSS Feed\n",
    "\n",
    "df_feed = pd.DataFrame(columns=['title'])\n",
    "\n",
    "for entry in NewsFeed.entries:\n",
    "    translated = translator.translate(entry['title'], dest='en')\n",
    "    df_feed = df_feed.append({'title': entry['title'],\n",
    "                              'compound': sid.polarity_scores(translated.text.lower())['compound']}, ignore_index=True)"
   ]
  },
  {
   "cell_type": "code",
   "execution_count": 5,
   "metadata": {},
   "outputs": [
    {
     "data": {
      "text/html": [
       "<div>\n",
       "<style scoped>\n",
       "    .dataframe tbody tr th:only-of-type {\n",
       "        vertical-align: middle;\n",
       "    }\n",
       "\n",
       "    .dataframe tbody tr th {\n",
       "        vertical-align: top;\n",
       "    }\n",
       "\n",
       "    .dataframe thead th {\n",
       "        text-align: right;\n",
       "    }\n",
       "</style>\n",
       "<table border=\"1\" class=\"dataframe\">\n",
       "  <thead>\n",
       "    <tr style=\"text-align: right;\">\n",
       "      <th></th>\n",
       "      <th>title</th>\n",
       "      <th>compound</th>\n",
       "    </tr>\n",
       "  </thead>\n",
       "  <tbody>\n",
       "    <tr>\n",
       "      <th>0</th>\n",
       "      <td>Japonya piyasaları kapanışta yükseldi; Nikkei ...</td>\n",
       "      <td>0.0000</td>\n",
       "    </tr>\n",
       "    <tr>\n",
       "      <th>1</th>\n",
       "      <td>YENİLEME 1-Türk Telekom 2018'de TL'deki değer ...</td>\n",
       "      <td>-0.1280</td>\n",
       "    </tr>\n",
       "    <tr>\n",
       "      <th>2</th>\n",
       "      <td>Çin piyasaları kapanışta yükseldi; Shanghai Co...</td>\n",
       "      <td>0.0000</td>\n",
       "    </tr>\n",
       "    <tr>\n",
       "      <th>3</th>\n",
       "      <td>VİOP-BIST-30 endeksinin Şubat sonu vadeli kont...</td>\n",
       "      <td>0.0000</td>\n",
       "    </tr>\n",
       "    <tr>\n",
       "      <th>4</th>\n",
       "      <td>Eldorado Gold Kışladağ Altın Madeni'nde madenc...</td>\n",
       "      <td>0.0000</td>\n",
       "    </tr>\n",
       "    <tr>\n",
       "      <th>5</th>\n",
       "      <td>Avustralya piyasaları kapanışta düştü; S&amp;P/ASX...</td>\n",
       "      <td>0.0000</td>\n",
       "    </tr>\n",
       "    <tr>\n",
       "      <th>6</th>\n",
       "      <td>Türk Telekom 2018'de TL'deki değer kaybının da...</td>\n",
       "      <td>-0.3182</td>\n",
       "    </tr>\n",
       "    <tr>\n",
       "      <th>7</th>\n",
       "      <td>Arçelik'in 2018 yılı net kârı %1 artışla 851.8...</td>\n",
       "      <td>0.6124</td>\n",
       "    </tr>\n",
       "    <tr>\n",
       "      <th>8</th>\n",
       "      <td>SOCAR EWE Turkey Holding ve grup şirketlerini ...</td>\n",
       "      <td>0.0000</td>\n",
       "    </tr>\n",
       "    <tr>\n",
       "      <th>9</th>\n",
       "      <td>Meksika piyasaları kapanışta yükseldi; S&amp;P/BMV...</td>\n",
       "      <td>0.2960</td>\n",
       "    </tr>\n",
       "  </tbody>\n",
       "</table>\n",
       "</div>"
      ],
      "text/plain": [
       "                                               title  compound\n",
       "0  Japonya piyasaları kapanışta yükseldi; Nikkei ...    0.0000\n",
       "1  YENİLEME 1-Türk Telekom 2018'de TL'deki değer ...   -0.1280\n",
       "2  Çin piyasaları kapanışta yükseldi; Shanghai Co...    0.0000\n",
       "3  VİOP-BIST-30 endeksinin Şubat sonu vadeli kont...    0.0000\n",
       "4  Eldorado Gold Kışladağ Altın Madeni'nde madenc...    0.0000\n",
       "5  Avustralya piyasaları kapanışta düştü; S&P/ASX...    0.0000\n",
       "6  Türk Telekom 2018'de TL'deki değer kaybının da...   -0.3182\n",
       "7  Arçelik'in 2018 yılı net kârı %1 artışla 851.8...    0.6124\n",
       "8  SOCAR EWE Turkey Holding ve grup şirketlerini ...    0.0000\n",
       "9  Meksika piyasaları kapanışta yükseldi; S&P/BMV...    0.2960"
      ]
     },
     "execution_count": 5,
     "metadata": {},
     "output_type": "execute_result"
    }
   ],
   "source": [
    "df_feed.head(50)"
   ]
  }
 ],
 "metadata": {
  "colab": {
   "name": "Untitled29.ipynb",
   "provenance": [],
   "version": "0.3.2"
  },
  "kernelspec": {
   "display_name": "Python 3",
   "language": "python",
   "name": "python3"
  },
  "language_info": {
   "codemirror_mode": {
    "name": "ipython",
    "version": 3
   },
   "file_extension": ".py",
   "mimetype": "text/x-python",
   "name": "python",
   "nbconvert_exporter": "python",
   "pygments_lexer": "ipython3",
   "version": "3.6.3"
  }
 },
 "nbformat": 4,
 "nbformat_minor": 1
}
