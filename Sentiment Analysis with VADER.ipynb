{
 "cells": [
  {
   "cell_type": "code",
   "execution_count": null,
   "metadata": {
    "colab": {
     "base_uri": "https://localhost:8080/",
     "height": 387
    },
    "colab_type": "code",
    "id": "nMx2UqrJFyw-",
    "outputId": "2a1da4e3-31d4-401f-f6b0-9f693ad8d9a6"
   },
   "outputs": [],
   "source": [
    "#!python3 -m pip install --user vaderSentiment nltk feedparser googletrans"
   ]
  },
  {
   "cell_type": "code",
   "execution_count": null,
   "metadata": {
    "colab": {},
    "colab_type": "code",
    "id": "VldzdttbGRT6"
   },
   "outputs": [],
   "source": [
    "import pandas as pd\n",
    "pd.max_colwidth = 1000"
   ]
  },
  {
   "cell_type": "code",
   "execution_count": null,
   "metadata": {},
   "outputs": [],
   "source": [
    "import feedparser\n",
    "import nltk\n",
    "from nltk.sentiment.vader import SentimentIntensityAnalyzer\n",
    "from googletrans import Translator # Currently vader lexicon is only trained in English so we trust google for NMT\n",
    "\n",
    "nltk.download('vader_lexicon') # Download pretrained vader lexicon\n",
    "\n",
    "translator = Translator()\n",
    "sid = SentimentIntensityAnalyzer()\n",
    "\n",
    "NewsFeed = feedparser.parse(\"https://tr.investing.com/rss/news_25.rss\") # Investing.com Stock Exchange News RSS Feed\n",
    "\n",
    "df_feed = pd.DataFrame(columns=['title'])\n",
    "\n",
    "for entry in NewsFeed.entries:\n",
    "    translated = translator.translate(entry['title'], dest='en')\n",
    "    df_feed = df_feed.append({'title': entry['title'],\n",
    "                              'compound': sid.polarity_scores(translated.text.lower())['compound']}, ignore_index=True)"
   ]
  },
  {
   "cell_type": "code",
   "execution_count": null,
   "metadata": {},
   "outputs": [],
   "source": [
    "df_feed.head(50)"
   ]
  }
 ],
 "metadata": {
  "colab": {
   "name": "Untitled29.ipynb",
   "provenance": [],
   "version": "0.3.2"
  },
  "kernelspec": {
   "display_name": "Python 3",
   "language": "python",
   "name": "python3"
  },
  "language_info": {
   "codemirror_mode": {
    "name": "ipython",
    "version": 3
   },
   "file_extension": ".py",
   "mimetype": "text/x-python",
   "name": "python",
   "nbconvert_exporter": "python",
   "pygments_lexer": "ipython3",
   "version": "3.6.3"
  }
 },
 "nbformat": 4,
 "nbformat_minor": 1
}
